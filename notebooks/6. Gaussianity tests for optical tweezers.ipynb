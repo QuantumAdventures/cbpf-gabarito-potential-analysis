{
 "cells": [
  {
   "cell_type": "markdown",
   "id": "77f37bcf",
   "metadata": {},
   "source": [
    "### Gaussianity tests for optical tweezers\n",
    "\n",
    "This notebook execute hypothesis tests to check if the data follows a gaussian distribution.\n",
    "A brief summary of the organization of this notebook:\n",
    "\n",
    "### Summary\n",
    "\n",
    "- [1 - Packages and imports](#1)\n",
    "\n",
    "- [2 - Load datasets](#2)\n",
    "\n",
    "- [3 - Kolmogorov Smirnov tests](#3)"
   ]
  },
  {
   "cell_type": "markdown",
   "id": "2c9f969c",
   "metadata": {},
   "source": [
    "### 1. Packages and imports"
   ]
  },
  {
   "cell_type": "code",
   "execution_count": 2,
   "id": "e7588e18",
   "metadata": {},
   "outputs": [],
   "source": [
    "import numpy as np\n",
    "import pandas as pd\n",
    "import seaborn as sns\n",
    "import matplotlib.pyplot as plt\n",
    "from scipy import stats\n",
    "from scipy.signal import correlate\n",
    "from scipy.optimize import curve_fit\n",
    "rng_seed = np.random.default_rng(12345)"
   ]
  },
  {
   "cell_type": "markdown",
   "id": "f30c113c",
   "metadata": {},
   "source": [
    "### 2. Load datasets"
   ]
  },
  {
   "cell_type": "code",
   "execution_count": 45,
   "id": "24c0c1bf",
   "metadata": {},
   "outputs": [],
   "source": [
    "measures = pd.read_csv('../data/dataframes/filtered.csv', index_col=None)"
   ]
  },
  {
   "cell_type": "code",
   "execution_count": 92,
   "id": "c265e373",
   "metadata": {},
   "outputs": [],
   "source": [
    "x = measures['x'].values\n",
    "y = measures['y'].values"
   ]
  },
  {
   "cell_type": "code",
   "execution_count": 93,
   "id": "b9dddeb1",
   "metadata": {},
   "outputs": [
    {
     "name": "stdout",
     "output_type": "stream",
     "text": [
      "KS Test for Bright Optical Tweezer - Experimental\n",
      "KstestResult(statistic=0.07719928186714542, pvalue=0.07231052780356526)\n",
      "KstestResult(statistic=0.11490125673249552, pvalue=0.0012681969448820867)\n"
     ]
    }
   ],
   "source": [
    "print('KS Test for Bright Optical Tweezer - Experimental')\n",
    "print(stats.kstest(x, np.random.normal(x.mean(), x.std(), x.shape[0])))\n",
    "print(stats.kstest(y, np.random.normal(y.mean(), y.std(), y.shape[0])))"
   ]
  },
  {
   "cell_type": "code",
   "execution_count": null,
   "id": "6d267d3e",
   "metadata": {},
   "outputs": [],
   "source": []
  }
 ],
 "metadata": {
  "kernelspec": {
   "display_name": "Python 3 (ipykernel)",
   "language": "python",
   "name": "python3"
  },
  "language_info": {
   "codemirror_mode": {
    "name": "ipython",
    "version": 3
   },
   "file_extension": ".py",
   "mimetype": "text/x-python",
   "name": "python",
   "nbconvert_exporter": "python",
   "pygments_lexer": "ipython3",
   "version": "3.8.5"
  }
 },
 "nbformat": 4,
 "nbformat_minor": 5
}
